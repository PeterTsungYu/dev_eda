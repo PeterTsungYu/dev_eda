{
 "cells": [
  {
   "cell_type": "markdown",
   "id": "d61cfb4a-4a13-43a6-8e43-0a2108790f2f",
   "metadata": {},
   "source": [
    "# Database Archive"
   ]
  },
  {
   "cell_type": "markdown",
   "id": "f851b0da-5352-426d-825d-f24d679d5ce1",
   "metadata": {},
   "source": [
    "## Execution"
   ]
  },
  {
   "cell_type": "markdown",
   "id": "32773906-aac4-4e9f-a8ec-31f7393c2e73",
   "metadata": {},
   "source": [
    "### Import packages"
   ]
  },
  {
   "cell_type": "code",
   "execution_count": 11,
   "id": "5d49a788-e4a7-45da-afc0-bb127760ccf6",
   "metadata": {},
   "outputs": [],
   "source": [
    "%matplotlib widget\n",
    "\n",
    "import os\n",
    "\n",
    "from ipywidgets import interact, interactive, interactive_output, fixed, interact_manual, IntSlider, IntRangeSlider, HBox\n",
    "import ipywidgets as widgets"
   ]
  },
  {
   "cell_type": "markdown",
   "id": "bb6c9711-1727-4dbc-9f27-ced32dcd3707",
   "metadata": {},
   "source": [
    "### Data Visualization "
   ]
  },
  {
   "cell_type": "code",
   "execution_count": 12,
   "id": "ad862edc-dc01-49f7-88e5-6f558041a570",
   "metadata": {},
   "outputs": [
    {
     "data": {
      "application/vnd.jupyter.widget-view+json": {
       "model_id": "6cce00e4646945bdb7b89fdc4caddf0d",
       "version_major": 2,
       "version_minor": 0
      },
      "text/plain": [
       "VBox(children=(RadioButtons(description='From Database:', options=('reformer', 'Reformer_BW', 'Reformer_SE'), …"
      ]
     },
     "metadata": {},
     "output_type": "display_data"
    }
   ],
   "source": [
    "from utility import db_conn\n",
    "import config \n",
    "\n",
    "username = os.environ.get(\"db_user\")\n",
    "password = os.environ.get(\"db_pwd\")\n",
    "ori_db_name_button = widgets.RadioButtons(\n",
    "        options=['reformer', 'Reformer_BW', 'Reformer_SE'],\n",
    "        description='From Database:',\n",
    "        disabled=False\n",
    "        )\n",
    "cur = db_conn(username=username, password=password, db_name=ori_db_name_button.value)\n",
    "cur.execute('SHOW tables')\n",
    "\n",
    "table_dropdown = widgets.Dropdown(options=[u for i in cur.fetchall()[:] for u in i][::-1], description='Select Table')\n",
    "\n",
    "arch_db_name_button = widgets.RadioButtons(\n",
    "        options=['reformer', 'Reformer_BW', 'Reformer_SE'],\n",
    "        description='Archive into:',\n",
    "        disabled=False\n",
    "        )\n",
    "\n",
    "toggle = widgets.ToggleButton(value=False, description='Exec', disabled=False, button_style='success', tooltip='Description',icon='check')\n",
    "tb_name = widgets.Text(\n",
    "    value=f'{table_dropdown.value}',\n",
    "    placeholder='Type Table Name',\n",
    "    description='New Name:',\n",
    "    disabled=False\n",
    ")\n",
    "\n",
    "def update_db_name(change):\n",
    "    db_name = change.new\n",
    "    cur = db_conn(username=username, password=password, db_name=change.new)\n",
    "    cur.execute('SHOW tables')\n",
    "    table_dropdown.options = [u for i in cur.fetchall()[:] for u in i][::-1]\n",
    "ori_db_name_button.observe(update_db_name, 'value') \n",
    "\n",
    "def exec(change):\n",
    "    if change.new:\n",
    "        cur = db_conn(username=username, password=password, db_name=arch_db_name_button.value)\n",
    "        display(f\"create table {tb_name.value} as select * from {ori_db_name_button.value}.{table_dropdown.value};\")\n",
    "        cur.execute(f\"create table {tb_name.value} as select * from {ori_db_name_button.value}.{table_dropdown.value};\")\n",
    "        display('Succeed')\n",
    "    else:\n",
    "        pass\n",
    "toggle.observe(exec, 'value') \n",
    "\n",
    "widgets.VBox([ori_db_name_button, table_dropdown, arch_db_name_button, tb_name, toggle])"
   ]
  },
  {
   "cell_type": "markdown",
   "id": "54e3cf6a-48b5-4e02-8954-8c0f256da1bc",
   "metadata": {},
   "source": [
    "### Close Remote Connection "
   ]
  },
  {
   "cell_type": "code",
   "execution_count": 10,
   "id": "4072ffdc-b2d2-482b-84e4-817898766b15",
   "metadata": {
    "tags": []
   },
   "outputs": [
    {
     "ename": "NameError",
     "evalue": "name 'conn' is not defined",
     "output_type": "error",
     "traceback": [
      "\u001b[0;31m---------------------------------------------------------------------------\u001b[0m",
      "\u001b[0;31mNameError\u001b[0m                                 Traceback (most recent call last)",
      "\u001b[0;32m<ipython-input-10-8dd0cd799055>\u001b[0m in \u001b[0;36m<module>\u001b[0;34m\u001b[0m\n\u001b[0;32m----> 1\u001b[0;31m \u001b[0mconn\u001b[0m\u001b[0;34m.\u001b[0m\u001b[0mclose\u001b[0m\u001b[0;34m(\u001b[0m\u001b[0;34m)\u001b[0m\u001b[0;34m\u001b[0m\u001b[0;34m\u001b[0m\u001b[0m\n\u001b[0m",
      "\u001b[0;31mNameError\u001b[0m: name 'conn' is not defined"
     ]
    }
   ],
   "source": [
    "conn.close()"
   ]
  },
  {
   "cell_type": "code",
   "execution_count": null,
   "id": "9a1915a0-e03a-412f-86cf-4f438a8fb278",
   "metadata": {},
   "outputs": [],
   "source": []
  },
  {
   "cell_type": "code",
   "execution_count": null,
   "id": "2cb8f411-9d20-404d-b67b-faed2c23eb5e",
   "metadata": {},
   "outputs": [],
   "source": []
  }
 ],
 "metadata": {
  "kernelspec": {
   "display_name": "dev_db",
   "language": "python",
   "name": "dev_db"
  },
  "language_info": {
   "codemirror_mode": {
    "name": "ipython",
    "version": 3
   },
   "file_extension": ".py",
   "mimetype": "text/x-python",
   "name": "python",
   "nbconvert_exporter": "python",
   "pygments_lexer": "ipython3",
   "version": "3.7.3"
  }
 },
 "nbformat": 4,
 "nbformat_minor": 5
}
