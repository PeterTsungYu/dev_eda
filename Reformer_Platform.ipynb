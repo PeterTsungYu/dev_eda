{
 "cells": [
  {
   "cell_type": "code",
   "execution_count": 1,
   "id": "5d49a788-e4a7-45da-afc0-bb127760ccf6",
   "metadata": {},
   "outputs": [],
   "source": [
    "# pip3 install mariadb\n",
    "# pip3 install pandas\n",
    "# pip3 install numpy  \n",
    "# sudo apt-get install libatlas-base-dev\n",
    "# pip3 install matplotlib\n",
    "# pip3 install ipympl\n",
    "# pip3 install ipywidgets\n",
    "\n",
    "import os\n",
    "import sys\n",
    "import mariadb\n",
    "import numpy as np\n",
    "import pandas as pd\n",
    "import matplotlib.pyplot as plt\n",
    "from ipywidgets import interact, interactive, interactive_output, fixed, interact_manual, IntSlider, IntRangeSlider, HBox\n",
    "import ipywidgets as widgets"
   ]
  },
  {
   "cell_type": "code",
   "execution_count": 24,
   "id": "054f9036-3963-4865-9516-bf0bca502488",
   "metadata": {},
   "outputs": [
    {
     "data": {
      "application/vnd.jupyter.widget-view+json": {
       "model_id": "04e0697608ee4cba8cc59adc8a8ed9cd",
       "version_major": 2,
       "version_minor": 0
      },
      "text/plain": [
       "RadioButtons(description='Select Database:', options=('reformer', 'catalyst', 'Reformer_BW', 'Reformer_SE'), v…"
      ]
     },
     "metadata": {},
     "output_type": "display_data"
    }
   ],
   "source": [
    "username = os.environ.get(\"db_user\")\n",
    "password = os.environ.get(\"db_pwd\")\n",
    "\n",
    "def update_db_name(change):\n",
    "    #print(change.new)\n",
    "    global db_name\n",
    "    db_name = change.new\n",
    "    \n",
    "list_db_name = widgets.RadioButtons(\n",
    "        options=['reformer', 'catalyst', 'Reformer_BW', 'Reformer_SE'],\n",
    "        description='Select Database:',\n",
    "        disabled=False\n",
    "        )\n",
    "db_name = list_db_name.value\n",
    "list_db_name.observe(update_db_name, 'value')\n",
    "display(list_db_name)"
   ]
  },
  {
   "cell_type": "code",
   "execution_count": 27,
   "id": "a440171c-6648-4dc9-a9f1-ed4088604843",
   "metadata": {},
   "outputs": [
    {
     "name": "stdout",
     "output_type": "stream",
     "text": [
      "Reformer_BW\n"
     ]
    }
   ],
   "source": [
    "print(db_name)"
   ]
  },
  {
   "cell_type": "code",
   "execution_count": 28,
   "id": "61ae7ca0-87d0-4a75-a863-40d0ede2eca7",
   "metadata": {
    "tags": []
   },
   "outputs": [
    {
     "name": "stdout",
     "output_type": "stream",
     "text": [
      "<mariadb.connection.cursor object at 0x6b9e8350>\n",
      "Connected to Reformer_BW@localhost \n"
     ]
    }
   ],
   "source": [
    "try:\n",
    "    # Connect to MariaDB Platform\n",
    "    conn = mariadb.connect(\n",
    "        user=username,\n",
    "        password=password,\n",
    "        host=\"localhost\",\n",
    "        port=3306,\n",
    "        database=db_name,\n",
    "        autocommit=True\n",
    "    )\n",
    "\n",
    "    # Get Cursor for tx\n",
    "    cur = conn.cursor(named_tuple=False)\n",
    "    #print(conn)\n",
    "    print(cur)\n",
    "    print(f\"Connected to {db_name}@localhost \")\n",
    "except mariadb.Error as e:\n",
    "    print(f\"Error connecting to MariaDB Platform: {e}\")\n",
    "    sys.exit(1)"
   ]
  },
  {
   "cell_type": "code",
   "execution_count": 32,
   "id": "16e2d09e-4bcc-4ba8-9dd2-bf9437b6e957",
   "metadata": {},
   "outputs": [
    {
     "data": {
      "application/vnd.jupyter.widget-view+json": {
       "model_id": "3c6af9ae331e40a4b8463d6b19862477",
       "version_major": 2,
       "version_minor": 0
      },
      "text/plain": [
       "VBox(children=(HBox(children=(Dropdown(description='Database', options=('platform_2021_12_20_09_34',), value='…"
      ]
     },
     "metadata": {},
     "output_type": "display_data"
    }
   ],
   "source": [
    "%matplotlib widget\n",
    "\n",
    "output = widgets.Output()\n",
    "with output:\n",
    "    fig_TC, ax_TC = plt.subplots(constrained_layout=True, figsize=(10, 7))\n",
    "fig_TC.canvas.toolbar_position = 'left'\n",
    "\n",
    "cur.execute('SHOW tables')\n",
    "table_dropdown = widgets.Dropdown(options=[u for i in cur.fetchall()[:] for u in i][::-1], description='Database')\n",
    "cur.execute(f\"SELECT * FROM {table_dropdown.value}\")\n",
    "cur.fetchall()\n",
    "time_slider = widgets.IntRangeSlider(value=[0, cur.rowcount], min=0, max=cur.rowcount, step=1200, description='Time Range',continuous_update=False)\n",
    "\n",
    "def update_time_range(*args):\n",
    "    cur.execute(f\"SELECT * FROM {table_dropdown.value}\")\n",
    "    cur.fetchall()\n",
    "    time_slider.max = cur.rowcount\n",
    "table_dropdown.observe(update_time_range, 'value')\n",
    "\n",
    "def plot_TC(Table_name, Time):    \n",
    "    cur.execute(f\"SELECT * FROM {Table_name}\")\n",
    "    df = pd.DataFrame(cur.fetchall(), columns=[entry[0] for entry in cur.description]).set_index('Id')\n",
    "    plt.cla()\n",
    "    #ax2 = ax1.twinx()\n",
    "    df['TC7'].plot(legend=True, ax=ax_TC, kind='area', color='lightblue')\n",
    "    df['TC8'].plot(legend=True, ax=ax_TC)\n",
    "    df['TC9'].plot(legend=True, ax=ax_TC)\n",
    "    df['TC10'].plot(legend=True, ax=ax_TC)\n",
    "    df['EVA_out'].plot(legend=True, ax=ax_TC,\n",
    "                       title=f'TC_{Table_name}', \n",
    "                       xlabel='Time[s]', \n",
    "                       ylabel='Temp[oC]', \n",
    "                       grid=True,  \n",
    "                       secondary_y=False, \n",
    "                       color='purple', \n",
    "                       xlim=Time, \n",
    "                       xticks=range(Time[0],Time[1],1200),\n",
    "                       ylim=(0,1000), \n",
    "                       yticks=range(0,1000,50),\n",
    "                      )\n",
    "    #ax1.set_ylabel('Temp_SR [oC]', color='g')\n",
    "    #ax2.set_ylabel('Temp_BR [oC]', color='b')\n",
    "    #fig_TC.canvas.draw()\n",
    "    #plt.legend(loc='upper right')\n",
    "    plt.show()\n",
    "    \n",
    "\n",
    "plot = interactive_output(plot_TC, {'Table_name':table_dropdown, 'Time':time_slider})\n",
    "control = HBox([table_dropdown, time_slider])\n",
    "widgets.VBox([control, plot])"
   ]
  },
  {
   "cell_type": "code",
   "execution_count": 31,
   "id": "081e658e-a043-4e5d-8c9a-040a8eabfb0d",
   "metadata": {},
   "outputs": [
    {
     "data": {
      "application/vnd.jupyter.widget-view+json": {
       "model_id": "c6e91b8e7f324005843e990b51c41aed",
       "version_major": 2,
       "version_minor": 0
      },
      "text/plain": [
       "VBox(children=(HBox(children=(Dropdown(description='Database', options=('platform_2021_12_20_09_34',), value='…"
      ]
     },
     "metadata": {},
     "output_type": "display_data"
    }
   ],
   "source": [
    "%matplotlib widget\n",
    "\n",
    "output = widgets.Output()\n",
    "with output:\n",
    "    fig_DFM, ax_DFM = plt.subplots(constrained_layout=True, figsize=(10, 5))\n",
    "fig_DFM.canvas.toolbar_position = 'left'\n",
    "\n",
    "cur.execute('SHOW tables')\n",
    "table_dropdown = widgets.Dropdown(options=[u for i in cur.fetchall()[:] for u in i][::-1], description='Database')\n",
    "cur.execute(f\"SELECT * FROM {table_dropdown.value}\")\n",
    "cur.fetchall()\n",
    "time_slider = widgets.IntRangeSlider(value=[0, cur.rowcount], min=0, max=cur.rowcount, step=1200, description='Time Range',continuous_update=False)\n",
    "\n",
    "def update_time_range(*args):\n",
    "    cur.execute(f\"SELECT * FROM {table_dropdown.value}\")\n",
    "    cur.fetchall()\n",
    "    time_slider.max = cur.rowcount\n",
    "table_dropdown.observe(update_time_range, 'value')\n",
    "\n",
    "def plot_TC(Table_name, Time):    \n",
    "    cur.execute(f\"SELECT * FROM {Table_name}\")\n",
    "    df = pd.DataFrame(cur.fetchall(), columns=[entry[0] for entry in cur.description]).set_index('Id')\n",
    "    plt.cla()\n",
    "    df = pd.DataFrame({\n",
    "        'DFM_AOG':df['DFM_AOG'],\n",
    "        'DFM_RichGas':df['DFM_RichGas'],\n",
    "    }, index=df.index)\n",
    "    df.plot(legend=True, ax=ax_DFM, kind='area', stacked=True, \n",
    "            title=f'TC_{Table_name}',\n",
    "            xlabel='Time[s]', \n",
    "            ylabel='Temp[oC]', \n",
    "            grid=True,  \n",
    "            xlim=Time, \n",
    "            xticks=range(Time[0],Time[1],1200),\n",
    "            ylim=(0,150), \n",
    "            yticks=range(0,150,10)\n",
    "           )\n",
    "    plt.show()\n",
    "    \n",
    "\n",
    "plot = interactive_output(plot_TC, {'Table_name':table_dropdown, 'Time':time_slider})\n",
    "control = HBox([table_dropdown, time_slider])\n",
    "widgets.VBox([control, plot])"
   ]
  },
  {
   "cell_type": "code",
   "execution_count": null,
   "id": "4072ffdc-b2d2-482b-84e4-817898766b15",
   "metadata": {
    "tags": []
   },
   "outputs": [],
   "source": [
    "conn.close()"
   ]
  }
 ],
 "metadata": {
  "kernelspec": {
   "display_name": "dev_db",
   "language": "python",
   "name": "dev_db"
  },
  "language_info": {
   "codemirror_mode": {
    "name": "ipython",
    "version": 3
   },
   "file_extension": ".py",
   "mimetype": "text/x-python",
   "name": "python",
   "nbconvert_exporter": "python",
   "pygments_lexer": "ipython3",
   "version": "3.7.3"
  }
 },
 "nbformat": 4,
 "nbformat_minor": 5
}
