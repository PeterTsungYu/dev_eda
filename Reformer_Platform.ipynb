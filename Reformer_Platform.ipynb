{
 "cells": [
  {
   "cell_type": "markdown",
   "id": "d61cfb4a-4a13-43a6-8e43-0a2108790f2f",
   "metadata": {},
   "source": [
    "# Platform Data Analysis"
   ]
  },
  {
   "cell_type": "markdown",
   "id": "f851b0da-5352-426d-825d-f24d679d5ce1",
   "metadata": {},
   "source": [
    "## Execution"
   ]
  },
  {
   "cell_type": "markdown",
   "id": "32773906-aac4-4e9f-a8ec-31f7393c2e73",
   "metadata": {},
   "source": [
    "### Import packages"
   ]
  },
  {
   "cell_type": "code",
   "execution_count": 1,
   "id": "5d49a788-e4a7-45da-afc0-bb127760ccf6",
   "metadata": {},
   "outputs": [],
   "source": [
    "# pip3 install mariadb\n",
    "# pip3 install pandas\n",
    "# pip3 install numpy  \n",
    "# sudo apt-get install libatlas-base-dev\n",
    "# pip3 install matplotlib\n",
    "# pip3 install ipympl\n",
    "# pip3 install ipywidgets\n",
    "\n",
    "%matplotlib widget\n",
    "%config InlineBackend.figure_format = 'png'\n",
    "\n",
    "import os\n",
    "import numpy as np\n",
    "import pandas as pd\n",
    "\n",
    "from ipywidgets import interact, interactive, interactive_output, fixed, interact_manual, IntSlider, IntRangeSlider, HBox\n",
    "import ipywidgets as widgets"
   ]
  },
  {
   "cell_type": "markdown",
   "id": "bb6c9711-1727-4dbc-9f27-ced32dcd3707",
   "metadata": {},
   "source": [
    "### Data Visualization "
   ]
  },
  {
   "cell_type": "code",
   "execution_count": 2,
   "id": "ad862edc-dc01-49f7-88e5-6f558041a570",
   "metadata": {},
   "outputs": [
    {
     "data": {
      "application/vnd.jupyter.widget-view+json": {
       "model_id": "0ae87d4411244b6aa71aca12d8463c83",
       "version_major": 2,
       "version_minor": 0
      },
      "text/plain": [
       "VBox(children=(RadioButtons(description='Select Database:', options=('Reformer_BW', 'Reformer_SE'), value='Ref…"
      ]
     },
     "metadata": {},
     "output_type": "display_data"
    }
   ],
   "source": [
    "from utility import db_conn, plot\n",
    "import config\n",
    "\n",
    "username = os.environ.get(\"db_user\")\n",
    "password = os.environ.get(\"db_pwd\")\n",
    "\n",
    "db_name_button = widgets.RadioButtons(\n",
    "        options=['Reformer_BW', 'Reformer_SE'],\n",
    "        description='Select Database:',\n",
    "        disabled=False\n",
    "        )\n",
    "\n",
    "config.db_name = db_name_button.value\n",
    "config.cur = db_conn(username=username, password=password, db_name=config.db_name)\n",
    "config.cur.execute('SHOW tables')\n",
    "\n",
    "table_dropdown = widgets.Dropdown(options=[u for i in config.cur.fetchall()[:] for u in i][::-1], description='Table')\n",
    "\n",
    "config.cur.execute(f\"SELECT * FROM {table_dropdown.value}\")\n",
    "config.cur.fetchall()\n",
    "\n",
    "time_slider = widgets.IntRangeSlider(value=[0, config.cur.rowcount], max=config.cur.rowcount, step=1200, description='Time Span', continuous_update=False)\n",
    "checkbox = widgets.Checkbox(value=False, description='Steady-State Only', disabled=False, indent=False)\n",
    "toggle_calc = widgets.ToggleButton(value=False, description='Only Calc', disabled=False, button_style='success', tooltip='Description',icon='check')\n",
    "toggle_plot = widgets.ToggleButton(value=False, description='Plot it!', disabled=False, button_style='info', tooltip='Description',icon='check')\n",
    "\n",
    "\n",
    "alter_db = False\n",
    "def update_db_name(change):\n",
    "    global alter_db\n",
    "    alter_db = True\n",
    "    config.db_name = change.new\n",
    "    config.cur = db_conn(username=username, password=password, db_name=config.db_name)\n",
    "    config.cur.execute('SHOW tables')\n",
    "    table_dropdown.options = [u for i in config.cur.fetchall()[:] for u in i][::-1]\n",
    "    config.cur.execute(f\"SELECT * FROM {table_dropdown.value}\")\n",
    "    config.cur.fetchall()\n",
    "    columns_button.options = [col[0] for col in config.cur.description]\n",
    "    time_slider.max = config.cur.rowcount\n",
    "    time_slider.value = [0, time_slider.max]\n",
    "db_name_button.observe(update_db_name, 'value')    \n",
    "\n",
    "\n",
    "def update_range(*args):\n",
    "    global alter_db\n",
    "    if not alter_db:\n",
    "        config.cur.execute(f\"SELECT * FROM {table_dropdown.value}\")\n",
    "        config.cur.fetchall()\n",
    "        time_slider.max = config.cur.rowcount\n",
    "        time_slider.value = [0, time_slider.max]\n",
    "        columns_button.options = [col[0] for col in config.cur.description]\n",
    "        print('change time', time_slider.value)\n",
    "        print('change time', time_slider.max)\n",
    "        #TC_selector.options = [i[0] for i in cur.description if re.search(\"^TC|^EVA\", i[0])]\n",
    "    else:\n",
    "        alter_db = False\n",
    "table_dropdown.observe(update_range, 'value')\n",
    "\n",
    "\n",
    "plot = interactive_output(plot, {'Table_name':table_dropdown, 'Time':time_slider, 'SS':checkbox, 'Calc': toggle_calc, 'Ploting':toggle_plot})\n",
    "toggle = HBox([toggle_calc, toggle_plot])\n",
    "control = HBox([table_dropdown, time_slider, checkbox,])\n",
    "#selector = HBox([TC_selector])\n",
    "widgets.VBox([db_name_button, toggle, control, plot])\n"
   ]
  },
  {
   "cell_type": "code",
   "execution_count": 3,
   "id": "0f95b6a3-038d-4eee-b499-36fec5fe43bc",
   "metadata": {},
   "outputs": [
    {
     "data": {
      "application/vnd.jupyter.widget-view+json": {
       "model_id": "f7109375329246369c14e3ea7b4ee774",
       "version_major": 2,
       "version_minor": 0
      },
      "text/plain": [
       "VBox(children=(SelectMultiple(description='Select Cols', options=('Id', 'Air_MFC_P', 'Air_MFC_T', 'Air_MFC_LPM…"
      ]
     },
     "metadata": {},
     "output_type": "display_data"
    },
    {
     "data": {
      "application/vnd.jupyter.widget-view+json": {
       "model_id": "f8cbeec3f9b140fdb22985926126f65a",
       "version_major": 2,
       "version_minor": 0
      },
      "text/html": [
       "\n",
       "            <div style=\"display: inline-block;\">\n",
       "                <div class=\"jupyter-widgets widget-label\" style=\"text-align: center;\">\n",
       "                    Figure\n",
       "                </div>\n",
       "                <img src='data:image/png;base64,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' width=800.0/>\n",
       "            </div>\n",
       "        "
      ],
      "text/plain": [
       "Canvas(toolbar=Toolbar(toolitems=[('Home', 'Reset original view', 'home', 'home'), ('Back', 'Back to previous …"
      ]
     },
     "metadata": {},
     "output_type": "display_data"
    }
   ],
   "source": [
    "from utility import plot_cols\n",
    "import matplotlib.pyplot as plt\n",
    "\n",
    "fig_col, ax_col = plt.subplots(1, constrained_layout=True, figsize=(8,3), sharex=False)\n",
    "fig_col.canvas.toolbar_position = 'left'\n",
    "    \n",
    "config.cur.execute(f\"SELECT * FROM {table_dropdown.value}\")\n",
    "columns_button = widgets.SelectMultiple(options=[col[0] for col in config.cur.description], description='Select Cols', disabled=False, continuous_update=False)\n",
    "\n",
    "def update_col_names(change) -> str:\n",
    "    string = \"\"\n",
    "    for i in change.new:\n",
    "        string = string + i + ','\n",
    "    plot_cols(col_string=string[:-1], table_name=table_dropdown.value, ax=ax_col)\n",
    "columns_button.observe(update_col_names, 'value')   \n",
    "\n",
    "widgets.VBox([columns_button])"
   ]
  },
  {
   "cell_type": "markdown",
   "id": "54e3cf6a-48b5-4e02-8954-8c0f256da1bc",
   "metadata": {},
   "source": [
    "### Close Remote Connection "
   ]
  },
  {
   "cell_type": "code",
   "execution_count": 4,
   "id": "4072ffdc-b2d2-482b-84e4-817898766b15",
   "metadata": {
    "tags": []
   },
   "outputs": [
    {
     "ename": "NameError",
     "evalue": "name 'conn' is not defined",
     "output_type": "error",
     "traceback": [
      "\u001b[0;31m---------------------------------------------------------------------------\u001b[0m",
      "\u001b[0;31mNameError\u001b[0m                                 Traceback (most recent call last)",
      "\u001b[0;32m<ipython-input-4-8dd0cd799055>\u001b[0m in \u001b[0;36m<module>\u001b[0;34m\u001b[0m\n\u001b[0;32m----> 1\u001b[0;31m \u001b[0mconn\u001b[0m\u001b[0;34m.\u001b[0m\u001b[0mclose\u001b[0m\u001b[0;34m(\u001b[0m\u001b[0;34m)\u001b[0m\u001b[0;34m\u001b[0m\u001b[0;34m\u001b[0m\u001b[0m\n\u001b[0m",
      "\u001b[0;31mNameError\u001b[0m: name 'conn' is not defined"
     ]
    }
   ],
   "source": [
    "conn.close()"
   ]
  },
  {
   "cell_type": "markdown",
   "id": "36efa818-b8a2-4a3a-aac2-24d8958b50bf",
   "metadata": {},
   "source": [
    "## Summary"
   ]
  },
  {
   "cell_type": "markdown",
   "id": "babb4b61-0164-49d4-ba77-8bcacbd94596",
   "metadata": {},
   "source": [
    "import markdown\n",
    "markdown.markdown('#Hi')\n",
    "#### 實驗結果 \n",
    "- 圖中有兩個穩定點(Steady-State), 分別為 ***半載(51A)*** 和 ***全載(85A)*** 的操作條件\n",
    "    - 半載穩定時間區間:\n",
    "        - **7680-8580s (約15分)**\n",
    "    - 全載穩定時間區間: \n",
    "        - **9720-11340s (約27分)**\n",
    "- 兩個穩定點的平均觸媒床溫度(TC10)，均在參考溫度附近:\n",
    "    - 半載均溫: **317.28oC**, 參考溫度: **315oC**\n",
    "    - 半載均溫: **333.22oC**, 參考溫度: **332oC**\n",
    "- 燃料蒸氣的進料溫度(EVA_Out) 約落在**200-200oC**\n",
    "- 平均燃料液體進料流率(Weight_Rate):\n",
    "    - 半載: **49.54 [g/min]**, 參考: **49.02 [g/min]**\n",
    "    - 半載: **81.75 [g/min]**, 參考: **81.45 [g/min]**\n",
    "- 此次實驗，燃燒室的燃料全程使用純氫進料(未採用回燒管路)，流率分別為:\n",
    "    - 半載: **9.5 [LPM]**\n",
    "    - 半載: **12.5 [LPM]**\n",
    "- 重組次單元的熱效率(Enyhalpy Efficiency)分別為:\n",
    "    - 半載: **94.45 %**\n",
    "    - 半載: **93.59 %**"
   ]
  },
  {
   "cell_type": "markdown",
   "id": "6d0b3d24-a52f-424e-b207-207f698651cf",
   "metadata": {},
   "source": [
    "#### 與車測中心比較\n",
    "- 重組次單元的熱效率(Enyhalpy Efficiency)分別為:\n",
    "    - 半載: **88.1 %** (此次實驗: **94.45 %**)\n",
    "    - 半載: **97.9 %** (此次實驗: **93.59 %**)\n",
    "1. 車測中心使用的氣體燃料，為氦氫氣燃料量(30/70%):\n",
    "    - 半載: **22.6 LPM**, 約為**15.7 LPM-H2** (此次實驗: **9.5 [LPM-H2]**)\n",
    "    - 半載: **30 LPM**, 約為**20.9 LPM-H2** (此次實驗: **12.5 [LPM-H2]**)\n",
    "2. 車測中心的燃料蒸氣的進料溫度(EVA_Out) 約落在**240-260oC** (此次實驗約落在**200-200oC**)\n",
    "3. 兩次量測均未考慮環境的熱逸散"
   ]
  },
  {
   "cell_type": "code",
   "execution_count": null,
   "id": "9a1915a0-e03a-412f-86cf-4f438a8fb278",
   "metadata": {},
   "outputs": [],
   "source": []
  }
 ],
 "metadata": {
  "kernelspec": {
   "display_name": "dev_db",
   "language": "python",
   "name": "dev_db"
  },
  "language_info": {
   "codemirror_mode": {
    "name": "ipython",
    "version": 3
   },
   "file_extension": ".py",
   "mimetype": "text/x-python",
   "name": "python",
   "nbconvert_exporter": "python",
   "pygments_lexer": "ipython3",
   "version": "3.7.3"
  }
 },
 "nbformat": 4,
 "nbformat_minor": 5
}
