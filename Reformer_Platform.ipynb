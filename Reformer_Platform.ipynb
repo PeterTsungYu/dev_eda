{
 "cells": [
  {
   "cell_type": "code",
   "execution_count": 1,
   "id": "5d49a788-e4a7-45da-afc0-bb127760ccf6",
   "metadata": {},
   "outputs": [],
   "source": [
    "# pip3 install mariadb\n",
    "# pip3 install pandas\n",
    "# pip3 install numpy  \n",
    "# sudo apt-get install libatlas-base-dev\n",
    "# pip3 install matplotlib\n",
    "# pip3 install ipympl\n",
    "# pip3 install ipywidgets\n",
    "\n",
    "%matplotlib widget\n",
    "%config InlineBackend.figure_format = 'png'\n",
    "\n",
    "import os\n",
    "import sys\n",
    "import mariadb\n",
    "import numpy as np\n",
    "import pandas as pd\n",
    "import matplotlib.pyplot as plt\n",
    "from ipywidgets import interact, interactive, interactive_output, fixed, interact_manual, IntSlider, IntRangeSlider, HBox\n",
    "import ipywidgets as widgets"
   ]
  },
  {
   "cell_type": "code",
   "execution_count": 2,
   "id": "054f9036-3963-4865-9516-bf0bca502488",
   "metadata": {},
   "outputs": [
    {
     "data": {
      "application/vnd.jupyter.widget-view+json": {
       "model_id": "61deb347ac93408f87859cce3c4c3412",
       "version_major": 2,
       "version_minor": 0
      },
      "text/plain": [
       "RadioButtons(description='Select Database:', options=('reformer', 'catalyst', 'Reformer_BW', 'Reformer_SE'), v…"
      ]
     },
     "metadata": {},
     "output_type": "display_data"
    }
   ],
   "source": [
    "username = os.environ.get(\"db_user\")\n",
    "password = os.environ.get(\"db_pwd\")\n",
    "\n",
    "def update_db_name(change):\n",
    "    #print(change.new)\n",
    "    global db_name\n",
    "    db_name = change.new\n",
    "    \n",
    "list_db_name = widgets.RadioButtons(\n",
    "        options=['reformer', 'catalyst', 'Reformer_BW', 'Reformer_SE'],\n",
    "        description='Select Database:',\n",
    "        disabled=False\n",
    "        )\n",
    "db_name = list_db_name.value\n",
    "list_db_name.observe(update_db_name, 'value')\n",
    "display(list_db_name)"
   ]
  },
  {
   "cell_type": "code",
   "execution_count": 12,
   "id": "61ae7ca0-87d0-4a75-a863-40d0ede2eca7",
   "metadata": {
    "tags": []
   },
   "outputs": [
    {
     "name": "stdout",
     "output_type": "stream",
     "text": [
      "<mariadb.connection.cursor object at 0x6906f350>\n",
      "Connected to reformer@localhost \n"
     ]
    }
   ],
   "source": [
    "try:\n",
    "    # Connect to MariaDB Platform\n",
    "    conn = mariadb.connect(\n",
    "        user=username,\n",
    "        password=password,\n",
    "        host=\"localhost\",\n",
    "        port=3306,\n",
    "        database=db_name,\n",
    "        autocommit=True\n",
    "    )\n",
    "\n",
    "    # Get Cursor for tx\n",
    "    cur = conn.cursor(named_tuple=False)\n",
    "    #print(conn)\n",
    "    print(cur)\n",
    "    print(f\"Connected to {db_name}@localhost \")\n",
    "except mariadb.Error as e:\n",
    "    print(f\"Error connecting to MariaDB Platform: {e}\")\n",
    "    sys.exit(1)"
   ]
  },
  {
   "cell_type": "code",
   "execution_count": 66,
   "id": "04720c23-65e2-4af3-93af-84dd7558631d",
   "metadata": {},
   "outputs": [],
   "source": [
    "cur.execute('SHOW tables')\n",
    "table_dropdown = widgets.Dropdown(options=[u for i in cur.fetchall()[:] for u in i][::-1], description='Database')\n",
    "cur.execute(f\"SELECT * FROM {table_dropdown.value}\")\n",
    "cur.fetchall()\n",
    "time_slider = widgets.IntRangeSlider(value=[0, cur.rowcount], min=0, max=cur.rowcount, step=1200, description='Time Range', continuous_update=False)\n",
    "checkbox = widgets.Checkbox(value=False, description='Steady-State Only', disabled=False, indent=False)\n",
    "\n",
    "def update_time_range(*args):\n",
    "    cur.execute(f\"SELECT * FROM {table_dropdown.value}\")\n",
    "    cur.fetchall()\n",
    "    time_slider.max = cur.rowcount\n",
    "table_dropdown.observe(update_time_range, 'value')"
   ]
  },
  {
   "cell_type": "code",
   "execution_count": 67,
   "id": "16e2d09e-4bcc-4ba8-9dd2-bf9437b6e957",
   "metadata": {},
   "outputs": [],
   "source": [
    "def plot(Table_name, Time, SS):\n",
    "    print(Table_name, Time)\n",
    "    #plt.clf()\n",
    "    fig, (ax_TC, ax_DFM, ax_GA) = plt.subplots(3, constrained_layout=True, figsize=(10, 10), sharex=False)\n",
    "    fig.canvas.toolbar_position = 'left'\n",
    "    \n",
    "    cur.execute(f\"SELECT * FROM {Table_name}\")\n",
    "    df = pd.DataFrame(cur.fetchall(), columns=[entry[0] for entry in cur.description]).set_index('Id')\n",
    "    \n",
    "    if SS:\n",
    "        ls=[]\n",
    "        for i in Set_Point_lst:\n",
    "            i.cond(df, TC='TC10', Scale='Scale')\n",
    "            i.eff_calc(df, Scale='Scale', DFM_RichGas='DFM_RichGas', GA_H2='GA_H2')\n",
    "            if i.ss_time:\n",
    "                for u in i.ss_time:\n",
    "                    #print(u)\n",
    "                    for v in range(u[0],u[-1]):\n",
    "                        ls.append(v)\n",
    "            #print(ls)\n",
    "        _bmask = pd.Series([True if i in ls else False for i in range(0,len(df))])\n",
    "        df = df.where(_bmask, 0)\n",
    "    \n",
    "    df_GA = pd.DataFrame({\n",
    "        'GA_H2':df['GA_H2'],\n",
    "        'GA_CO':df['GA_CO'],\n",
    "        'GA_CO2':df['GA_CO2'],\n",
    "        'GA_CH4':df['GA_CH4'],\n",
    "        'GA_N2':df['GA_N2'],\n",
    "    }, index=df.index)\n",
    "    df_DFM = pd.DataFrame({\n",
    "        'DFM_AOG':df['DFM_AOG'],\n",
    "        'DFM_RichGas':df['DFM_RichGas'],\n",
    "    }, index=df.index)\n",
    "    \n",
    "    df['TC10'].plot(legend=True, ax=ax_TC, kind='area', color='lightblue')\n",
    "    df['TC6'].plot(legend=True, ax=ax_TC)\n",
    "    df['TC7'].plot(legend=True, ax=ax_TC)\n",
    "    df['TC8'].plot(legend=True, ax=ax_TC)\n",
    "    df['TC9'].plot(legend=True, ax=ax_TC)\n",
    "    df['TC11'].plot(legend=True, ax=ax_TC)\n",
    "    df['EVA_Out'].plot(legend=True, ax=ax_TC,\n",
    "                       title=f'TC_{Table_name}', \n",
    "                       ylabel='Temp[oC]', \n",
    "                       ylim=(0,600), \n",
    "                       yticks=range(0,600,100),\n",
    "                      )\n",
    "    ax_TC_2 = ax_TC.twinx()\n",
    "    ax_TC_2.set_ylim([0, 600])\n",
    "    ax_TC_2.set_yticks(range(0,600,100)) \n",
    "    \n",
    "    df_DFM.plot(legend=True, ax=ax_DFM, kind='area', stacked=True, \n",
    "            title=f'DFM_{Table_name}',\n",
    "            ylabel='Gas Production [LPM]', \n",
    "            #grid=True,  \n",
    "            ylim=(0,140), \n",
    "            yticks=range(0,140,10)\n",
    "           )\n",
    "    ax_DFM_2 = df['Scale'].plot(legend=True, ax=ax_DFM, secondary_y=True)\n",
    "    ax_DFM_2.set_ylabel('Scale [g/min]')\n",
    "    ax_DFM_2.set_ylim(0,100)\n",
    "    \n",
    "    df_GA.plot(legend=True, ax=ax_GA, kind='area', stacked=True, \n",
    "            title=f'GA_{Table_name}', \n",
    "            ylabel='Gas Composition [%]', \n",
    "            #grid=True,  \n",
    "            xlim=Time, \n",
    "            xticks=range(Time[0],Time[1],1200),\n",
    "            ylim=(0,100), \n",
    "            yticks=range(0,100,10)\n",
    "           )\n",
    "    df['CO_line'] = df['GA_CO']\n",
    "    ax_GA_2 = df['CO_line'].plot(legend=True, ax=ax_GA, secondary_y=True)\n",
    "    ax_GA_2.set_ylabel('CO [%]')\n",
    "    ax_GA_2.set_ylim(0,5)\n",
    "    \n",
    "    plt.show()"
   ]
  },
  {
   "cell_type": "code",
   "execution_count": 68,
   "id": "b1cdf999-28d9-4ea3-8b94-12405308a3ee",
   "metadata": {},
   "outputs": [],
   "source": [
    "class SerEnergy_Set_Point:\n",
    "    density_H2 = 0.08988 # kg/m3 @ STP\n",
    "    enthalpy_H2 = 120.21 # MJ/kg-LHV\n",
    "    enthalpy_MeOH = 20.09 # MJ/kg-LHV\n",
    "    MeOH_weight = 0.543 # 54.3wt%\n",
    "    cont_step = 60 #continue for 1 min\n",
    "    TC_range = 5 #5oC\n",
    "    Scale_range = 5 #5g/min\n",
    "    continuity = 10 #10min\n",
    "    def __init__(self, temp=0, weight_rate=0, dummy=0):\n",
    "        # set points\n",
    "        self.temp = temp \n",
    "        self.weight_rate = weight_rate\n",
    "        self.dummy = dummy\n",
    "        \n",
    "        # steady-state\n",
    "        self.ss_time = []\n",
    "        #self.ss_temp = 0 # avg\n",
    "        self.ss_weight_rate = [] #avg\n",
    "        self.ss_DFM_RichGas = [] # avg\n",
    "        self.ss_GA_H2 = [] # avg\n",
    "        #self.ss_DFM_AOG = []\n",
    "        self.heff = []\n",
    "        \n",
    "    def cond(self, df, TC='', Scale=''):\n",
    "        self.ss_time = []\n",
    "        count_60 = 0 #counter for steady mins\n",
    "        ss_temp = []\n",
    "        ss_lst = []\n",
    "        ss = ((df[TC] >= (self.temp - self.TC_range)) & (df[TC] <= (self.temp + self.TC_range))) \\\n",
    "            & ((df[Scale] >= (self.weight_rate - self.Scale_range)) & (df[Scale] <= (self.weight_rate + self.Scale_range)))\n",
    "        #print(ss.sum())\n",
    "        for i in range(0, len(ss), self.cont_step):\n",
    "            if i + self.cont_step <= len(ss):\n",
    "                if ss.iloc[i:i + self.cont_step].sum() == 60:\n",
    "                    count_60 += 1\n",
    "                    ss_temp.append(i)\n",
    "                else:\n",
    "                    count_60 = 0\n",
    "                    if ss_temp != []:\n",
    "                        ss_lst.append(ss_temp)\n",
    "                        ss_temp = []\n",
    "                    continue\n",
    "        #print(ss_lst)\n",
    "        for u in ss_lst:\n",
    "            if len(u) >= self.continuity:\n",
    "                self.ss_time.append((u[0], u[-1]))\n",
    "    def eff_calc(self, df, Scale='', DFM_RichGas='', GA_H2=''):\n",
    "        if self.ss_time:\n",
    "            self.ss_weight_rate = []\n",
    "            self.ss_DFM_RichGas = []\n",
    "            self.ss_GA_H2 = []\n",
    "            self.heff = []\n",
    "            for u in self.ss_time:\n",
    "                #print(u)\n",
    "                ls = [v for v in range(u[0],u[-1])]\n",
    "                df_mean = df[df.index.isin(ls)]\n",
    "                self.ss_weight_rate.append(df_mean[Scale].mean())\n",
    "                self.ss_DFM_RichGas.append(df_mean[DFM_RichGas].mean())\n",
    "                self.ss_GA_H2.append(df_mean[GA_H2].mean())\n",
    "            # should apply numpy...\n",
    "            H2_prod = (self.ss_DFM_RichGas[0] * self.ss_GA_H2[0] / 100) - self.dummy # LPM\n",
    "            #print(H2_prod)\n",
    "            H2_prod = H2_prod * self.density_H2 / 1000 # kg/min @ STP\n",
    "            #print(H2_prod)\n",
    "            self.heff.append((H2_prod * self.enthalpy_H2) / (self.ss_weight_rate[0] / 1000 * self.MeOH_weight * self.enthalpy_MeOH) * 100) # enthalpy eff [%]\n",
    "        else:\n",
    "            pass\n",
    "        #print(self.ss_weight_rate, self.ss_DFM_RichGas, self.ss_GA_H2)\n",
    "        print(self.heff)\n",
    "        "
   ]
  },
  {
   "cell_type": "code",
   "execution_count": 69,
   "id": "ad862edc-dc01-49f7-88e5-6f558041a570",
   "metadata": {},
   "outputs": [
    {
     "data": {
      "application/vnd.jupyter.widget-view+json": {
       "model_id": "91d78d5c5aa74e7d84856b439d7358fd",
       "version_major": 2,
       "version_minor": 0
      },
      "text/plain": [
       "VBox(children=(HBox(children=(Dropdown(description='Database', options=('platform_2021_12_29_17_59', 'platform…"
      ]
     },
     "metadata": {},
     "output_type": "display_data"
    }
   ],
   "source": [
    "Set_Point_lst = [SerEnergy_Set_Point(temp=300, weight_rate=18.91), \n",
    "                 SerEnergy_Set_Point(temp=305, weight_rate=31.85), \n",
    "                 SerEnergy_Set_Point(temp=315, weight_rate=49.02, dummy=9.5), \n",
    "                 SerEnergy_Set_Point(temp=325, weight_rate=63.1), \n",
    "                 SerEnergy_Set_Point(temp=332, weight_rate=81.45, dummy=12.5)]\n",
    "\n",
    "plot = interactive_output(plot, {'Table_name':table_dropdown, 'Time':time_slider, 'SS':checkbox})\n",
    "control = HBox([table_dropdown, time_slider, checkbox])\n",
    "widgets.VBox([control, plot])"
   ]
  },
  {
   "cell_type": "code",
   "execution_count": 70,
   "id": "809b6ec1-0f8f-428c-a4dc-fcac4f3ff39e",
   "metadata": {},
   "outputs": [
    {
     "name": "stdout",
     "output_type": "stream",
     "text": [
      "[]\n",
      "[]\n",
      "[]\n",
      "[]\n",
      "[]\n"
     ]
    }
   ],
   "source": [
    "cur.execute(\"SELECT * FROM platform_2021_12_29_10_21\")\n",
    "df = pd.DataFrame(cur.fetchall(), columns=[entry[0] for entry in cur.description]).set_index('Id')\n",
    "\n",
    "for i in Set_Point_lst:\n",
    "    i.eff_calc(df, Scale='Scale', DFM_RichGas='DFM_RichGas', GA_H2='GA_H2')"
   ]
  },
  {
   "cell_type": "code",
   "execution_count": null,
   "id": "4072ffdc-b2d2-482b-84e4-817898766b15",
   "metadata": {
    "tags": []
   },
   "outputs": [],
   "source": [
    "conn.close()"
   ]
  },
  {
   "cell_type": "code",
   "execution_count": null,
   "id": "ace63037-6b6a-46a5-9bc0-928047a95521",
   "metadata": {},
   "outputs": [],
   "source": []
  }
 ],
 "metadata": {
  "kernelspec": {
   "display_name": "dev_db",
   "language": "python",
   "name": "dev_db"
  },
  "language_info": {
   "codemirror_mode": {
    "name": "ipython",
    "version": 3
   },
   "file_extension": ".py",
   "mimetype": "text/x-python",
   "name": "python",
   "nbconvert_exporter": "python",
   "pygments_lexer": "ipython3",
   "version": "3.7.3"
  }
 },
 "nbformat": 4,
 "nbformat_minor": 5
}
