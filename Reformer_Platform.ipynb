{
 "cells": [
  {
   "cell_type": "markdown",
   "id": "d61cfb4a-4a13-43a6-8e43-0a2108790f2f",
   "metadata": {},
   "source": [
    "# Platform Data Analysis"
   ]
  },
  {
   "cell_type": "markdown",
   "id": "f851b0da-5352-426d-825d-f24d679d5ce1",
   "metadata": {},
   "source": [
    "## Execution"
   ]
  },
  {
   "cell_type": "markdown",
   "id": "32773906-aac4-4e9f-a8ec-31f7393c2e73",
   "metadata": {},
   "source": [
    "### Import packages"
   ]
  },
  {
   "cell_type": "code",
   "execution_count": 1,
   "id": "5d49a788-e4a7-45da-afc0-bb127760ccf6",
   "metadata": {},
   "outputs": [],
   "source": [
    "# pip3 install mariadb\n",
    "# pip3 install pandas\n",
    "# pip3 install numpy  \n",
    "# sudo apt-get install libatlas-base-dev\n",
    "# pip3 install matplotlib\n",
    "# pip3 install ipympl\n",
    "# pip3 install ipywidgets\n",
    "\n",
    "%matplotlib widget\n",
    "%config InlineBackend.figure_format = 'png'\n",
    "\n",
    "import os\n",
    "import numpy as np\n",
    "import pandas as pd\n",
    "\n",
    "from ipywidgets import interact, interactive, interactive_output, fixed, interact_manual, IntSlider, IntRangeSlider, HBox\n",
    "import ipywidgets as widgets"
   ]
  },
  {
   "cell_type": "markdown",
   "id": "bb6c9711-1727-4dbc-9f27-ced32dcd3707",
   "metadata": {},
   "source": [
    "### Data Visualization "
   ]
  },
  {
   "cell_type": "code",
   "execution_count": 2,
   "id": "ad862edc-dc01-49f7-88e5-6f558041a570",
   "metadata": {},
   "outputs": [
    {
     "data": {
      "application/vnd.jupyter.widget-view+json": {
       "model_id": "28a002a307974aa0b794af45fd6aab28",
       "version_major": 2,
       "version_minor": 0
      },
      "text/plain": [
       "VBox(children=(RadioButtons(description='Select Database:', options=('Reformer_BW', 'Reformer_SE'), value='Ref…"
      ]
     },
     "metadata": {},
     "output_type": "display_data"
    }
   ],
   "source": [
    "from utility import db_conn, plot\n",
    "import config\n",
    "\n",
    "username = os.environ.get(\"db_user\")\n",
    "password = os.environ.get(\"db_pwd\")\n",
    "db_name_button = widgets.RadioButtons(\n",
    "        options=['Reformer_BW', 'Reformer_SE'],\n",
    "        description='Select Database:',\n",
    "        disabled=False\n",
    "        )\n",
    "config.db_name = db_name_button.value\n",
    "config.cur = db_conn(username=username, password=password, db_name=config.db_name)\n",
    "#print(config.cur)\n",
    "config.cur.execute('SHOW tables')\n",
    "\n",
    "table_dropdown = widgets.Dropdown(options=[u for i in config.cur.fetchall()[:] for u in i][::-1], description='Table')\n",
    "\n",
    "config.cur.execute(f\"SELECT * FROM {table_dropdown.value}\")\n",
    "config.cur.fetchall()\n",
    "\n",
    "time_slider = widgets.IntRangeSlider(value=[0, config.cur.rowcount], max=config.cur.rowcount, step=1200, description='Time Span', continuous_update=False)\n",
    "\n",
    "checkbox = widgets.Checkbox(value=False, description='Steady-State Only', disabled=False, indent=False)\n",
    "toggle_calc = widgets.ToggleButton(value=False, description='Only Calc', disabled=False, button_style='success', tooltip='Description',icon='check')\n",
    "toggle_plot = widgets.ToggleButton(value=False, description='Plot it!', disabled=False, button_style='info', tooltip='Description',icon='check')\n",
    "#TC_selector = widgets.RadioButtons(options=[i[0] for i in cur.description if re.search(\"^TC|^EVA\", i[0])], description='Area plot', disabled=False,)\n",
    "columns_button = widgets.SelectMultiple(options=[col[0] for col in config.cur.description], description='Select Col', disabled=False)\n",
    "\n",
    "alter_db = False\n",
    "def update_db_name(change):\n",
    "    global alter_db\n",
    "    alter_db = True\n",
    "    config.db_name = change.new\n",
    "    config.cur = db_conn(username=username, password=password, db_name=config.db_name)\n",
    "    config.cur.execute('SHOW tables')\n",
    "    table_dropdown.options = [u for i in config.cur.fetchall()[:] for u in i][::-1]\n",
    "    config.cur.execute(f\"SELECT * FROM {table_dropdown.value}\")\n",
    "    config.cur.fetchall()\n",
    "    columns_button.options = [col[0] for col in config.cur.description]\n",
    "    time_slider.max = config.cur.rowcount\n",
    "    time_slider.value = [0, time_slider.max]\n",
    "db_name_button.observe(update_db_name, 'value')    \n",
    "\n",
    "\n",
    "def update_range(*args):\n",
    "    global alter_db\n",
    "    if not alter_db:\n",
    "        config.cur.execute(f\"SELECT * FROM {table_dropdown.value}\")\n",
    "        config.cur.fetchall()\n",
    "        time_slider.max = config.cur.rowcount\n",
    "        time_slider.value = [0, time_slider.max]\n",
    "        columns_button.options = [col[0] for col in config.cur.description]\n",
    "        print('change time', time_slider.value)\n",
    "        print('change time', time_slider.max)\n",
    "        #TC_selector.options = [i[0] for i in cur.description if re.search(\"^TC|^EVA\", i[0])]\n",
    "    else:\n",
    "        alter_db = False\n",
    "table_dropdown.observe(update_range, 'value')\n",
    "\n",
    "\n",
    "plot = interactive_output(plot, {'Table_name':table_dropdown, 'Time':time_slider, 'SS':checkbox, 'Calc': toggle_calc, 'Ploting':toggle_plot})\n",
    "toggle = HBox([toggle_calc, toggle_plot])\n",
    "control = HBox([table_dropdown, time_slider, checkbox,])\n",
    "#selector = HBox([TC_selector])\n",
    "widgets.VBox([db_name_button, toggle, control, plot])\n"
   ]
  },
  {
   "cell_type": "code",
   "execution_count": 3,
   "id": "0f95b6a3-038d-4eee-b499-36fec5fe43bc",
   "metadata": {},
   "outputs": [
    {
     "data": {
      "application/vnd.jupyter.widget-view+json": {
       "model_id": "1eac3f4372484848beda47ab4b148c16",
       "version_major": 2,
       "version_minor": 0
      },
      "text/plain": [
       "VBox(children=(RadioButtons(description='Select Database:', options=('Reformer_BW', 'Reformer_SE'), value='Ref…"
      ]
     },
     "metadata": {},
     "output_type": "display_data"
    }
   ],
   "source": [
    "widgets.VBox([db_name_button, control, columns_button])"
   ]
  },
  {
   "cell_type": "markdown",
   "id": "54e3cf6a-48b5-4e02-8954-8c0f256da1bc",
   "metadata": {},
   "source": [
    "### Close Remote Connection "
   ]
  },
  {
   "cell_type": "code",
   "execution_count": null,
   "id": "4072ffdc-b2d2-482b-84e4-817898766b15",
   "metadata": {
    "tags": []
   },
   "outputs": [],
   "source": [
    "conn.close()"
   ]
  },
  {
   "cell_type": "markdown",
   "id": "36efa818-b8a2-4a3a-aac2-24d8958b50bf",
   "metadata": {},
   "source": [
    "## Summary"
   ]
  },
  {
   "cell_type": "markdown",
   "id": "babb4b61-0164-49d4-ba77-8bcacbd94596",
   "metadata": {},
   "source": [
    "#### 實驗結果 \n",
    "- 圖中有兩個穩定點(Steady-State), 分別為 ***半載(51A)*** 和 ***全載(85A)*** 的操作條件\n",
    "    - 半載穩定時間區間:\n",
    "        - **7680-8580s (約15分)**\n",
    "    - 全載穩定時間區間: \n",
    "        - **9720-11340s (約27分)**\n",
    "- 兩個穩定點的平均觸媒床溫度(TC10)，均在參考溫度附近:\n",
    "    - 半載均溫: **317.28oC**, 參考溫度: **315oC**\n",
    "    - 半載均溫: **333.22oC**, 參考溫度: **332oC**\n",
    "- 燃料蒸氣的進料溫度(EVA_Out) 約落在**200-200oC**\n",
    "- 平均燃料液體進料流率(Weight_Rate):\n",
    "    - 半載: **49.54 [g/min]**, 參考: **49.02 [g/min]**\n",
    "    - 半載: **81.75 [g/min]**, 參考: **81.45 [g/min]**\n",
    "- 此次實驗，燃燒室的燃料全程使用純氫進料(未採用回燒管路)，流率分別為:\n",
    "    - 半載: **9.5 [LPM]**\n",
    "    - 半載: **12.5 [LPM]**\n",
    "- 重組次單元的熱效率(Enyhalpy Efficiency)分別為:\n",
    "    - 半載: **94.45 %**\n",
    "    - 半載: **93.59 %**"
   ]
  },
  {
   "cell_type": "markdown",
   "id": "6d0b3d24-a52f-424e-b207-207f698651cf",
   "metadata": {},
   "source": [
    "#### 與車測中心比較\n",
    "- 重組次單元的熱效率(Enyhalpy Efficiency)分別為:\n",
    "    - 半載: **88.1 %** (此次實驗: **94.45 %**)\n",
    "    - 半載: **97.9 %** (此次實驗: **93.59 %**)\n",
    "1. 車測中心使用的氣體燃料，為氦氫氣燃料量(30/70%):\n",
    "    - 半載: **22.6 LPM**, 約為**15.7 LPM-H2** (此次實驗: **9.5 [LPM-H2]**)\n",
    "    - 半載: **30 LPM**, 約為**20.9 LPM-H2** (此次實驗: **12.5 [LPM-H2]**)\n",
    "2. 車測中心的燃料蒸氣的進料溫度(EVA_Out) 約落在**240-260oC** (此次實驗約落在**200-200oC**)\n",
    "3. 兩次量測均未考慮環境的熱逸散"
   ]
  },
  {
   "cell_type": "code",
   "execution_count": null,
   "id": "9a1915a0-e03a-412f-86cf-4f438a8fb278",
   "metadata": {},
   "outputs": [],
   "source": []
  }
 ],
 "metadata": {
  "kernelspec": {
   "display_name": "dev_db",
   "language": "python",
   "name": "dev_db"
  },
  "language_info": {
   "codemirror_mode": {
    "name": "ipython",
    "version": 3
   },
   "file_extension": ".py",
   "mimetype": "text/x-python",
   "name": "python",
   "nbconvert_exporter": "python",
   "pygments_lexer": "ipython3",
   "version": "3.7.3"
  }
 },
 "nbformat": 4,
 "nbformat_minor": 5
}
