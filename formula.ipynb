{
 "cells": [
  {
   "cell_type": "code",
   "execution_count": null,
   "id": "f0b10e14-c1f1-4440-8db0-0c7684ffc636",
   "metadata": {},
   "outputs": [],
   "source": [
    "from chemicals import CAS_from_any, MW, Tb, Tm, Tc, Pc, Vc, Hfus, Hfs, Hfl, Hfg, S0s, S0l, S0g\n",
    "# Constants:\n",
    "\n",
    "## Molecular weight\n",
    "mw_methanol = MW('CH3OH')\n",
    "mw_CO = MW('CO')\n",
    "mw_CO2 = MW('CO2')\n",
    "mw_H2 = MW('H2')\n",
    "mw_H2O = MW('H2O')\n",
    "\n",
    "## Ideal gas\n",
    "pressure = 1 #atm\n",
    "R = 0.082\n",
    "# ...\n",
    "print(mw_methanol)"
   ]
  },
  {
   "cell_type": "code",
   "execution_count": 9,
   "id": "aecce26b-4fea-4157-befa-07864c2d3fac",
   "metadata": {},
   "outputs": [
    {
     "name": "stdin",
     "output_type": "stream",
     "text": [
      "Scale of MeOH/H2O(g/min): \n",
      "Concentration(%): \n",
      "Density of MeOH/H2O(g/mL): \n",
      "Pressure(atm): \n",
      "Temperature(K): \n",
      "Folw of H2(L/min): \n"
     ]
    },
    {
     "name": "stdout",
     "output_type": "stream",
     "text": [
      "Ideal convertion value can not be 0!\n",
      "Reality convertion value can not be 0!\n",
      "ERROR!\n"
     ]
    }
   ],
   "source": [
    "import sys\n",
    "\n",
    "# Constnat\n",
    "Mw_MeOH = 32\n",
    "Mw_H2 = 2\n",
    "Mw_CO = 28\n",
    "Mw_CO2 = 44\n",
    "Mw_H2O = 18\n",
    "Decomp = 0.99 # Percentage of methanol decomposition\n",
    "WGS_conver = 0.97 # WGS convertion\n",
    "R = 0.082 # Ideal gas constnat\n",
    "\n",
    "# Parameter of experiment\n",
    "try:\n",
    "    Sc = float(input('Scale of MeOH/H2O(g/min):') or 0)\n",
    "    Concen = float(input('Concentration(%):') or 0) / 100\n",
    "    Den = float(input('Density of MeOH/H2O(g/mL):') or 0)\n",
    "    Pres = float(input('Pressure(atm):') or 0)\n",
    "    Temp = float(input('Temperature(K):') or 0)    \n",
    "    Product = float(input('Folw of H2(L/min):') or 0)\n",
    "except ValueError:\n",
    "    print('Only can input integer!')\n",
    "\n",
    "# Caculation\n",
    "mol_MeOH = Sc / Mw_MeOH * Concen\n",
    "## Theory convertion\n",
    "\n",
    "thr_mol_H2 = mol_MeOH * 3\n",
    "thr_conver = '100%'\n",
    "\n",
    "## Ideal convertion\n",
    "try:\n",
    "    idel_mol_H2 = mol_MeOH * Decomp * ( 2 + WGS_conver)\n",
    "    idel_conver = round(idel_mol_H2 / mol_MeOH / 3 * 100, 2)\n",
    "except ZeroDivisionError:\n",
    "    print('Ideal convertion value can not be 0!')\n",
    "    sys.exit\n",
    "## Reality convertion\n",
    "try:\n",
    "    real_mol_H2 = Product * Pres / Temp / R\n",
    "    real_conver_thr = round(real_mol_H2 / mol_MeOH / 3 * 100, 2)\n",
    "    real_conver_idel = round(real_conver_thr / (idel_conver / 100), 2)\n",
    "except ZeroDivisionError:\n",
    "    print('Reality convertion value can not be 0!')\n",
    "try:\n",
    "    print('Ideal:' + str(idel_conver) + '%')\n",
    "    print('Reality:' + str(real_conver_thr) + '%')\n",
    "    print('Reality2:' + str(real_conver_idel) + '%')\n",
    "    print('Theory:' + thr_conver)\n",
    "except NameError:\n",
    "    print('ERROR!')"
   ]
  },
  {
   "cell_type": "code",
   "execution_count": null,
   "id": "602779c8-35c6-4391-8124-bcb3b9184208",
   "metadata": {},
   "outputs": [],
   "source": []
  },
  {
   "cell_type": "code",
   "execution_count": null,
   "id": "514b8e24-5586-4d69-8b4b-eb2d25e70820",
   "metadata": {},
   "outputs": [],
   "source": []
  },
  {
   "cell_type": "code",
   "execution_count": null,
   "id": "db668b3a-3388-441c-b2cb-da19d9f690ec",
   "metadata": {},
   "outputs": [],
   "source": []
  },
  {
   "cell_type": "code",
   "execution_count": null,
   "id": "d5510b4f-8c86-47ae-a99c-f35b8ffb4909",
   "metadata": {},
   "outputs": [],
   "source": []
  },
  {
   "cell_type": "code",
   "execution_count": null,
   "id": "eba54f6d-783c-4a11-824d-bbd91b882fee",
   "metadata": {},
   "outputs": [],
   "source": []
  },
  {
   "cell_type": "code",
   "execution_count": null,
   "id": "1b211652-0de9-47e1-9a9d-d83ec55cdf46",
   "metadata": {},
   "outputs": [],
   "source": []
  },
  {
   "cell_type": "code",
   "execution_count": null,
   "id": "5f5e0feb-5cd8-4069-a8ad-fbb15c0dd27a",
   "metadata": {},
   "outputs": [],
   "source": []
  },
  {
   "cell_type": "code",
   "execution_count": null,
   "id": "42c34293-e385-49a9-93ea-4b4bb4c5e732",
   "metadata": {},
   "outputs": [],
   "source": []
  },
  {
   "cell_type": "code",
   "execution_count": null,
   "id": "a705f601-8ca3-40d9-bfd3-964d29091f0c",
   "metadata": {},
   "outputs": [],
   "source": []
  },
  {
   "cell_type": "code",
   "execution_count": null,
   "id": "b8351a72-8ba0-46b8-b1ed-d8210f6f946e",
   "metadata": {},
   "outputs": [],
   "source": []
  },
  {
   "cell_type": "code",
   "execution_count": null,
   "id": "e187b14f-a0b8-4108-8db9-41689fbe8c6d",
   "metadata": {},
   "outputs": [],
   "source": []
  },
  {
   "cell_type": "code",
   "execution_count": null,
   "id": "aed6d64a-17d5-439d-96b1-3a9415b93b04",
   "metadata": {},
   "outputs": [],
   "source": []
  },
  {
   "cell_type": "code",
   "execution_count": null,
   "id": "e9acc023-4a3a-492a-9299-65ed831a5c6f",
   "metadata": {},
   "outputs": [],
   "source": []
  },
  {
   "cell_type": "code",
   "execution_count": null,
   "id": "16e5cf8b-a396-4daa-a4b9-97a4c46c0bdc",
   "metadata": {},
   "outputs": [],
   "source": []
  },
  {
   "cell_type": "code",
   "execution_count": null,
   "id": "e133b387-8c39-4a99-9a20-0a1675c63f3e",
   "metadata": {},
   "outputs": [],
   "source": []
  },
  {
   "cell_type": "code",
   "execution_count": null,
   "id": "ddbf13fe-0e9f-421d-b22c-d5ffd266760e",
   "metadata": {},
   "outputs": [],
   "source": []
  },
  {
   "cell_type": "code",
   "execution_count": null,
   "id": "a1178647-1778-4327-b208-1d637cd4741a",
   "metadata": {},
   "outputs": [],
   "source": []
  },
  {
   "cell_type": "code",
   "execution_count": null,
   "id": "33cffd19-ebe6-4a7c-bbf8-d1f1a4152107",
   "metadata": {},
   "outputs": [],
   "source": []
  },
  {
   "cell_type": "code",
   "execution_count": null,
   "id": "d5a2b033-6b24-4f58-ad2d-d20a8017d1c0",
   "metadata": {},
   "outputs": [],
   "source": []
  },
  {
   "cell_type": "code",
   "execution_count": null,
   "id": "bec380a1-1ca3-4354-ad8c-6d60112d29be",
   "metadata": {},
   "outputs": [],
   "source": []
  },
  {
   "cell_type": "code",
   "execution_count": null,
   "id": "eec44eb1-5b37-4339-97ca-c2f09e7cd014",
   "metadata": {},
   "outputs": [],
   "source": []
  }
 ],
 "metadata": {
  "kernelspec": {
   "display_name": "dev_db",
   "language": "python",
   "name": "dev_db"
  },
  "language_info": {
   "codemirror_mode": {
    "name": "ipython",
    "version": 3
   },
   "file_extension": ".py",
   "mimetype": "text/x-python",
   "name": "python",
   "nbconvert_exporter": "python",
   "pygments_lexer": "ipython3",
   "version": "3.7.3"
  }
 },
 "nbformat": 4,
 "nbformat_minor": 5
}
